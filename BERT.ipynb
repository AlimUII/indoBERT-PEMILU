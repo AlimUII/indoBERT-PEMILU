{
 "cells": [
  {
   "cell_type": "code",
   "execution_count": 53,
   "id": "f395deb6",
   "metadata": {},
   "outputs": [
    {
     "name": "stdout",
     "output_type": "stream",
     "text": [
      "Note: you may need to restart the kernel to use updated packages.\n"
     ]
    },
    {
     "name": "stderr",
     "output_type": "stream",
     "text": [
      "ERROR: Invalid requirement: \"'accelerate\": Expected package name at the start of dependency specifier\n",
      "    'accelerate\n",
      "    ^\n"
     ]
    }
   ],
   "source": [
    "pip install 'accelerate>=0.26.0'\n"
   ]
  },
  {
   "cell_type": "code",
   "execution_count": 54,
   "id": "448bb3ec",
   "metadata": {},
   "outputs": [
    {
     "data": {
      "text/html": [
       "<div>\n",
       "<style scoped>\n",
       "    .dataframe tbody tr th:only-of-type {\n",
       "        vertical-align: middle;\n",
       "    }\n",
       "\n",
       "    .dataframe tbody tr th {\n",
       "        vertical-align: top;\n",
       "    }\n",
       "\n",
       "    .dataframe thead th {\n",
       "        text-align: right;\n",
       "    }\n",
       "</style>\n",
       "<table border=\"1\" class=\"dataframe\">\n",
       "  <thead>\n",
       "    <tr style=\"text-align: right;\">\n",
       "      <th></th>\n",
       "      <th>Date</th>\n",
       "      <th>Sentimen</th>\n",
       "      <th>Username</th>\n",
       "      <th>Kategori</th>\n",
       "    </tr>\n",
       "  </thead>\n",
       "  <tbody>\n",
       "    <tr>\n",
       "      <th>0</th>\n",
       "      <td>Sun Aug 20 23:58:34 +0000 2023</td>\n",
       "      <td>Komisi Pemilihan Umum, Sabtu (19/8/2023), memp...</td>\n",
       "      <td>hariankompas</td>\n",
       "      <td>netral</td>\n",
       "    </tr>\n",
       "    <tr>\n",
       "      <th>1</th>\n",
       "      <td>Sun Aug 20 23:57:12 +0000 2023</td>\n",
       "      <td>Targetkan Enam Kursi di Pemilu 2024, Ketua DPC...</td>\n",
       "      <td>metrojambi</td>\n",
       "      <td>netral</td>\n",
       "    </tr>\n",
       "    <tr>\n",
       "      <th>2</th>\n",
       "      <td>Sun Aug 20 23:56:45 +0000 2023</td>\n",
       "      <td>Presiden 2024 hanya Ganjar PranowoTerbaik !! y...</td>\n",
       "      <td>ganjarist_satu</td>\n",
       "      <td>positif</td>\n",
       "    </tr>\n",
       "    <tr>\n",
       "      <th>3</th>\n",
       "      <td>Sun Aug 20 23:56:08 +0000 2023</td>\n",
       "      <td>kontestasi berharap cawapres\" versus \"kandidat...</td>\n",
       "      <td>irwan_dwi_a</td>\n",
       "      <td>netral</td>\n",
       "    </tr>\n",
       "    <tr>\n",
       "      <th>4</th>\n",
       "      <td>Sun Aug 20 23:55:29 +0000 2023</td>\n",
       "      <td>*Minggu Kasih Kapolres Tabanan, Ajak Jemaat Su...</td>\n",
       "      <td>HKerambitan</td>\n",
       "      <td>netral</td>\n",
       "    </tr>\n",
       "  </tbody>\n",
       "</table>\n",
       "</div>"
      ],
      "text/plain": [
       "                             Date  \\\n",
       "0  Sun Aug 20 23:58:34 +0000 2023   \n",
       "1  Sun Aug 20 23:57:12 +0000 2023   \n",
       "2  Sun Aug 20 23:56:45 +0000 2023   \n",
       "3  Sun Aug 20 23:56:08 +0000 2023   \n",
       "4  Sun Aug 20 23:55:29 +0000 2023   \n",
       "\n",
       "                                            Sentimen        Username Kategori  \n",
       "0  Komisi Pemilihan Umum, Sabtu (19/8/2023), memp...    hariankompas   netral  \n",
       "1  Targetkan Enam Kursi di Pemilu 2024, Ketua DPC...      metrojambi   netral  \n",
       "2  Presiden 2024 hanya Ganjar PranowoTerbaik !! y...  ganjarist_satu  positif  \n",
       "3  kontestasi berharap cawapres\" versus \"kandidat...     irwan_dwi_a   netral  \n",
       "4  *Minggu Kasih Kapolres Tabanan, Ajak Jemaat Su...     HKerambitan   netral  "
      ]
     },
     "execution_count": 54,
     "metadata": {},
     "output_type": "execute_result"
    }
   ],
   "source": [
    "# Mempersiapkan Dataset dan Import Library\n",
    "\n",
    "import pandas as pd\n",
    "import numpy as np\n",
    "from sklearn.model_selection import train_test_split\n",
    "from sklearn.preprocessing import LabelEncoder\n",
    "from transformers import AutoTokenizer\n",
    "from transformers import AutoTokenizer, AutoModelForSequenceClassification, Trainer, TrainingArguments\n",
    "from datasets import Dataset\n",
    "from sklearn.metrics import accuracy_score\n",
    "from peft import LoraModel, LoraConfig\n",
    "\n",
    "\n",
    "# Membaca dataset\n",
    "file_path = 'PEMILU2024.xlsx'\n",
    "df = pd.read_excel(file_path)\n",
    "\n",
    "# Menampilkan beberapa baris pertama\n",
    "df.head()\n"
   ]
  },
  {
   "cell_type": "code",
   "execution_count": 55,
   "id": "a26694e3",
   "metadata": {},
   "outputs": [
    {
     "name": "stdout",
     "output_type": "stream",
     "text": [
      "                                            Sentimen  \\\n",
      "0  Komisi Pemilihan Umum, Sabtu (19/8/2023), memp...   \n",
      "1  Targetkan Enam Kursi di Pemilu 2024, Ketua DPC...   \n",
      "2  Presiden 2024 hanya Ganjar PranowoTerbaik !! y...   \n",
      "3  kontestasi berharap cawapres\" versus \"kandidat...   \n",
      "4  *Minggu Kasih Kapolres Tabanan, Ajak Jemaat Su...   \n",
      "\n",
      "                                         Tweet_clean  \n",
      "0  komisi pemilihan umum sabtu 1982023 memperbaru...  \n",
      "1  targetkan enam kursi di pemilu 2024 ketua dpc ...  \n",
      "2  presiden 2024 hanya ganjar pranowoterbaik  yan...  \n",
      "3  kontestasi berharap cawapres versus kandidat c...  \n",
      "4  minggu kasih kapolres tabanan ajak jemaat suks...  \n"
     ]
    }
   ],
   "source": [
    "# Preprocessing\n",
    "import re\n",
    "\n",
    "# Fungsi untuk preprocessing\n",
    "def clean_text(text):\n",
    "\n",
    "    text = re.sub(r'http\\S+|www\\S+', '', text)\n",
    "    # Menghapus URL\n",
    "\n",
    "    text = re.sub(r'@\\w+', '', text)\n",
    "    # Menghapus mention\n",
    "\n",
    "    text = re.sub(r'#\\w+', '', text)\n",
    "    # Menghapus hashtag\n",
    "\n",
    "    text = re.sub(r'[^a-zA-Z0-9\\s]', '', text)\n",
    "    # Menghapus karakter khusus\n",
    "\n",
    "    text = text.lower()\n",
    "    # Menjadikan semua huruf menjadi huruf kecil\n",
    "    return text\n",
    "\n",
    "# Menerapkan pembersihan pada kolom Tweet\n",
    "df['Tweet_clean'] = df['Sentimen'].apply(clean_text)\n",
    "\n",
    "# Menampilkan beberapa baris pertama\n",
    "print(df[['Sentimen', 'Tweet_clean']].head())\n"
   ]
  },
  {
   "cell_type": "code",
   "execution_count": 56,
   "id": "3b04128e",
   "metadata": {},
   "outputs": [
    {
     "name": "stdout",
     "output_type": "stream",
     "text": [
      "Index(['Date', 'Sentimen', 'Username', 'Kategori', 'Tweet_clean',\n",
      "       'Kategori_encoded'],\n",
      "      dtype='object')\n"
     ]
    }
   ],
   "source": [
    "label_encoder = LabelEncoder()\n",
    "\n",
    "# Melakukan encoding pada kolom kategori\n",
    "df['Kategori_encoded'] = label_encoder.fit_transform(df['Kategori'])\n",
    "\n",
    "# Menampilkan hasil encoding\n",
    "df[['Kategori', 'Kategori_encoded']].drop_duplicates()\n",
    "\n",
    "# Memeriksa kolom yang ada dalam dataframe\n",
    "print(df.columns)\n"
   ]
  },
  {
   "cell_type": "code",
   "execution_count": 57,
   "id": "4bf2686c",
   "metadata": {},
   "outputs": [
    {
     "name": "stdout",
     "output_type": "stream",
     "text": [
      "Train Data: 2429\n",
      "Validation Data: 521\n",
      "Test Data: 521\n"
     ]
    }
   ],
   "source": [
    "# Pembagian Data ke dalam Training, Validation, dan Test Set\n",
    "\n",
    "from sklearn.model_selection import train_test_split\n",
    "\n",
    "# Pembagian data (70% training, 15% validation, 15% testing)\n",
    "train_data, temp_data = train_test_split(df, test_size=0.3, random_state=42)\n",
    "valid_data, test_data = train_test_split(temp_data, test_size=0.5, random_state=42)\n",
    "\n",
    "# Menampilkan ukuran data untuk memastikan pembagian\n",
    "print(f'Train Data: {len(train_data)}')\n",
    "print(f'Validation Data: {len(valid_data)}')\n",
    "print(f'Test Data: {len(test_data)}')"
   ]
  },
  {
   "cell_type": "code",
   "execution_count": 58,
   "id": "a8b92667",
   "metadata": {},
   "outputs": [
    {
     "name": "stderr",
     "output_type": "stream",
     "text": [
      "Some weights of BertForSequenceClassification were not initialized from the model checkpoint at indobenchmark/indobert-base-p2 and are newly initialized: ['classifier.bias', 'classifier.weight']\n",
      "You should probably TRAIN this model on a down-stream task to be able to use it for predictions and inference.\n"
     ]
    },
    {
     "name": "stdout",
     "output_type": "stream",
     "text": [
      "{'input_ids': tensor([[    2, 11283,   351,  1647,  6011,    34,  1541,   112,  2255,  7578,\n",
      "            26,   300,  2852,   219,  9162,  2294,  2813,    90,  2800,  1772,\n",
      "          8693,     3,     0,     0,     0,     0,     0,     0,     0,     0,\n",
      "             0,     0,     0,     0,     0,     0,     0,     0,     0,     0,\n",
      "             0,     0,     0,     0,     0,     0,     0,     0,     0,     0,\n",
      "             0,     0,     0,     0,     0,     0,     0,     0,     0,     0,\n",
      "             0,     0,     0,     0,     0,     0,     0,     0,     0,     0,\n",
      "             0,     0,     0,     0,     0,     0,     0,     0,     0,     0,\n",
      "             0,     0,     0,     0,     0,     0,     0,     0,     0,     0,\n",
      "             0,     0,     0,     0,     0,     0,     0,     0,     0,     0,\n",
      "             0,     0,     0,     0,     0,     0,     0,     0,     0,     0,\n",
      "             0,     0,     0,     0,     0,     0,     0,     0,     0,     0,\n",
      "             0,     0,     0,     0,     0,     0,     0,     0]]), 'token_type_ids': tensor([[0, 0, 0, 0, 0, 0, 0, 0, 0, 0, 0, 0, 0, 0, 0, 0, 0, 0, 0, 0, 0, 0, 0, 0,\n",
      "         0, 0, 0, 0, 0, 0, 0, 0, 0, 0, 0, 0, 0, 0, 0, 0, 0, 0, 0, 0, 0, 0, 0, 0,\n",
      "         0, 0, 0, 0, 0, 0, 0, 0, 0, 0, 0, 0, 0, 0, 0, 0, 0, 0, 0, 0, 0, 0, 0, 0,\n",
      "         0, 0, 0, 0, 0, 0, 0, 0, 0, 0, 0, 0, 0, 0, 0, 0, 0, 0, 0, 0, 0, 0, 0, 0,\n",
      "         0, 0, 0, 0, 0, 0, 0, 0, 0, 0, 0, 0, 0, 0, 0, 0, 0, 0, 0, 0, 0, 0, 0, 0,\n",
      "         0, 0, 0, 0, 0, 0, 0, 0]]), 'attention_mask': tensor([[1, 1, 1, 1, 1, 1, 1, 1, 1, 1, 1, 1, 1, 1, 1, 1, 1, 1, 1, 1, 1, 1, 0, 0,\n",
      "         0, 0, 0, 0, 0, 0, 0, 0, 0, 0, 0, 0, 0, 0, 0, 0, 0, 0, 0, 0, 0, 0, 0, 0,\n",
      "         0, 0, 0, 0, 0, 0, 0, 0, 0, 0, 0, 0, 0, 0, 0, 0, 0, 0, 0, 0, 0, 0, 0, 0,\n",
      "         0, 0, 0, 0, 0, 0, 0, 0, 0, 0, 0, 0, 0, 0, 0, 0, 0, 0, 0, 0, 0, 0, 0, 0,\n",
      "         0, 0, 0, 0, 0, 0, 0, 0, 0, 0, 0, 0, 0, 0, 0, 0, 0, 0, 0, 0, 0, 0, 0, 0,\n",
      "         0, 0, 0, 0, 0, 0, 0, 0]])}\n"
     ]
    }
   ],
   "source": [
    "# Memuat model dan tokenizer IndoBERT\n",
    "model = AutoModelForSequenceClassification.from_pretrained('indobenchmark/indobert-base-p2', num_labels=3)\n",
    "tokenizer = AutoTokenizer.from_pretrained('indobenchmark/indobert-base-p2')\n",
    "\n",
    "# Fungsi untuk tokenisasi\n",
    "def tokenize_text(text):\n",
    "    return tokenizer(text, padding='max_length', truncation=True, max_length=128, return_tensors='pt')\n",
    "\n",
    "# Terapkan tokenisasi pada data\n",
    "train_tokenized = train_data['Tweet_clean'].apply(tokenize_text)\n",
    "valid_tokenized = valid_data['Tweet_clean'].apply(tokenize_text)\n",
    "test_tokenized = test_data['Tweet_clean'].apply(tokenize_text)\n",
    "\n",
    "# Menampilkan hasil tokenisasi untuk beberapa contoh\n",
    "print(train_tokenized.iloc[0])\n"
   ]
  },
  {
   "cell_type": "code",
   "execution_count": 59,
   "id": "613ed4d8",
   "metadata": {},
   "outputs": [
    {
     "name": "stdout",
     "output_type": "stream",
     "text": [
      "{'input_ids': [2, 11283, 351, 1647, 6011, 34, 1541, 112, 2255, 7578, 26, 300, 2852, 219, 9162, 2294, 2813, 90, 2800, 1772, 8693, 3, 0, 0, 0, 0, 0, 0, 0, 0, 0, 0, 0, 0, 0, 0, 0, 0, 0, 0, 0, 0, 0, 0, 0, 0, 0, 0, 0, 0, 0, 0, 0, 0, 0, 0, 0, 0, 0, 0, 0, 0, 0, 0, 0, 0, 0, 0, 0, 0, 0, 0, 0, 0, 0, 0, 0, 0, 0, 0, 0, 0, 0, 0, 0, 0, 0, 0, 0, 0, 0, 0, 0, 0, 0, 0, 0, 0, 0, 0, 0, 0, 0, 0, 0, 0, 0, 0, 0, 0, 0, 0, 0, 0, 0, 0, 0, 0, 0, 0, 0, 0, 0, 0, 0, 0, 0, 0], 'attention_mask': [1, 1, 1, 1, 1, 1, 1, 1, 1, 1, 1, 1, 1, 1, 1, 1, 1, 1, 1, 1, 1, 1, 0, 0, 0, 0, 0, 0, 0, 0, 0, 0, 0, 0, 0, 0, 0, 0, 0, 0, 0, 0, 0, 0, 0, 0, 0, 0, 0, 0, 0, 0, 0, 0, 0, 0, 0, 0, 0, 0, 0, 0, 0, 0, 0, 0, 0, 0, 0, 0, 0, 0, 0, 0, 0, 0, 0, 0, 0, 0, 0, 0, 0, 0, 0, 0, 0, 0, 0, 0, 0, 0, 0, 0, 0, 0, 0, 0, 0, 0, 0, 0, 0, 0, 0, 0, 0, 0, 0, 0, 0, 0, 0, 0, 0, 0, 0, 0, 0, 0, 0, 0, 0, 0, 0, 0, 0, 0], 'labels': 2}\n"
     ]
    }
   ],
   "source": [
    "# Menambahkan hasil tokenisasi ke DataFrame untuk training, validation, dan testing\n",
    "train_data['input_ids'] = train_tokenized.apply(lambda x: x['input_ids'].squeeze().tolist())\n",
    "train_data['attention_mask'] = train_tokenized.apply(lambda x: x['attention_mask'].squeeze().tolist())\n",
    "\n",
    "valid_data['input_ids'] = valid_tokenized.apply(lambda x: x['input_ids'].squeeze().tolist())\n",
    "valid_data['attention_mask'] = valid_tokenized.apply(lambda x: x['attention_mask'].squeeze().tolist())\n",
    "\n",
    "test_data['input_ids'] = test_tokenized.apply(lambda x: x['input_ids'].squeeze().tolist())\n",
    "test_data['attention_mask'] = test_tokenized.apply(lambda x: x['attention_mask'].squeeze().tolist())\n",
    "\n",
    "# Menambahkan kolom 'labels' yang berisi kategori encoded\n",
    "train_data['labels'] = train_data['Kategori_encoded']\n",
    "valid_data['labels'] = valid_data['Kategori_encoded']\n",
    "test_data['labels'] = test_data['Kategori_encoded']\n",
    "\n",
    "# Konversi DataFrame menjadi Dataset untuk Trainer\n",
    "train_dataset = Dataset.from_pandas(train_data[['input_ids', 'attention_mask', 'labels']])\n",
    "valid_dataset = Dataset.from_pandas(valid_data[['input_ids', 'attention_mask', 'labels']])\n",
    "test_dataset = Dataset.from_pandas(test_data[['input_ids', 'attention_mask', 'labels']])\n",
    "\n",
    "# Menghapus kolom '__index_level_0__' jika ada\n",
    "columns_to_remove = ['__index_level_0__']\n",
    "train_dataset = train_dataset.remove_columns([col for col in columns_to_remove if col in train_dataset.column_names])\n",
    "valid_dataset = valid_dataset.remove_columns([col for col in columns_to_remove if col in valid_dataset.column_names])\n",
    "test_dataset = test_dataset.remove_columns([col for col in columns_to_remove if col in test_dataset.column_names])\n",
    "\n",
    "# Memeriksa beberapa contoh untuk memastikan\n",
    "print(train_dataset[0])\n"
   ]
  },
  {
   "cell_type": "code",
   "execution_count": 60,
   "id": "a4640553",
   "metadata": {},
   "outputs": [
    {
     "name": "stderr",
     "output_type": "stream",
     "text": [
      "Some weights of BertForSequenceClassification were not initialized from the model checkpoint at bert-base-uncased and are newly initialized: ['classifier.bias', 'classifier.weight']\n",
      "You should probably TRAIN this model on a down-stream task to be able to use it for predictions and inference.\n",
      "d:\\analisis sentimen pemilu indobert\\env\\lib\\site-packages\\torch\\utils\\data\\dataloader.py:665: UserWarning: 'pin_memory' argument is set as true but no accelerator is found, then device pinned memory won't be used.\n",
      "  warnings.warn(warn_msg)\n"
     ]
    },
    {
     "data": {
      "text/html": [
       "\n",
       "    <div>\n",
       "      \n",
       "      <progress value='456' max='456' style='width:300px; height:20px; vertical-align: middle;'></progress>\n",
       "      [456/456 32:38, Epoch 3/3]\n",
       "    </div>\n",
       "    <table border=\"1\" class=\"dataframe\">\n",
       "  <thead>\n",
       " <tr style=\"text-align: left;\">\n",
       "      <th>Epoch</th>\n",
       "      <th>Training Loss</th>\n",
       "      <th>Validation Loss</th>\n",
       "      <th>Accuracy</th>\n",
       "    </tr>\n",
       "  </thead>\n",
       "  <tbody>\n",
       "    <tr>\n",
       "      <td>1</td>\n",
       "      <td>0.912400</td>\n",
       "      <td>0.923972</td>\n",
       "      <td>0.612284</td>\n",
       "    </tr>\n",
       "    <tr>\n",
       "      <td>2</td>\n",
       "      <td>0.813500</td>\n",
       "      <td>0.798728</td>\n",
       "      <td>0.658349</td>\n",
       "    </tr>\n",
       "    <tr>\n",
       "      <td>3</td>\n",
       "      <td>0.655900</td>\n",
       "      <td>0.921311</td>\n",
       "      <td>0.608445</td>\n",
       "    </tr>\n",
       "  </tbody>\n",
       "</table><p>"
      ],
      "text/plain": [
       "<IPython.core.display.HTML object>"
      ]
     },
     "metadata": {},
     "output_type": "display_data"
    },
    {
     "name": "stderr",
     "output_type": "stream",
     "text": [
      "d:\\analisis sentimen pemilu indobert\\env\\lib\\site-packages\\torch\\utils\\data\\dataloader.py:665: UserWarning: 'pin_memory' argument is set as true but no accelerator is found, then device pinned memory won't be used.\n",
      "  warnings.warn(warn_msg)\n",
      "d:\\analisis sentimen pemilu indobert\\env\\lib\\site-packages\\torch\\utils\\data\\dataloader.py:665: UserWarning: 'pin_memory' argument is set as true but no accelerator is found, then device pinned memory won't be used.\n",
      "  warnings.warn(warn_msg)\n",
      "d:\\analisis sentimen pemilu indobert\\env\\lib\\site-packages\\torch\\utils\\data\\dataloader.py:665: UserWarning: 'pin_memory' argument is set as true but no accelerator is found, then device pinned memory won't be used.\n",
      "  warnings.warn(warn_msg)\n"
     ]
    },
    {
     "data": {
      "text/html": [],
      "text/plain": [
       "<IPython.core.display.HTML object>"
      ]
     },
     "metadata": {},
     "output_type": "display_data"
    },
    {
     "name": "stdout",
     "output_type": "stream",
     "text": [
      "{'eval_loss': 0.92131108045578, 'eval_accuracy': 0.6084452975047985, 'eval_runtime': 31.656, 'eval_samples_per_second': 16.458, 'eval_steps_per_second': 0.284, 'epoch': 3.0}\n"
     ]
    }
   ],
   "source": [
    "from transformers import BertForSequenceClassification, Trainer, TrainingArguments\n",
    "import numpy as np\n",
    "from sklearn.metrics import accuracy_score\n",
    "\n",
    "# Inisialisasi model dengan 3 kelas (sesuai dengan kategori sentimen)\n",
    "model = BertForSequenceClassification.from_pretrained('bert-base-uncased', num_labels=3)\n",
    "\n",
    "# Setup parameter training\n",
    "\n",
    "training_args = TrainingArguments(\n",
    "    output_dir='./results',          \n",
    "    # direktori hasil output\n",
    "\n",
    "    num_train_epochs=3,              \n",
    "    # jumlah epoch\n",
    "\n",
    "    per_device_train_batch_size=16,  \n",
    "    # batch size per device pada training\n",
    "\n",
    "    per_device_eval_batch_size=64,   \n",
    "    # batch size per device pada evaluasi\n",
    "\n",
    "    warmup_steps=500,                \n",
    "    # jumlah warmup steps\n",
    "\n",
    "    weight_decay=0.01,               \n",
    "    # decay untuk regularisasi\n",
    "\n",
    "    logging_dir='./logs',            \n",
    "    # direktori log\n",
    "\n",
    "    logging_steps=10,\n",
    "    eval_strategy=\"epoch\",           \n",
    "    # evaluasi per epoch\n",
    "\n",
    "    save_strategy=\"epoch\",           \n",
    "    # simpan model setiap epoch\n",
    "    \n",
    "    report_to='none',                \n",
    "    # Menonaktifkan W&B logging\n",
    ")\n",
    "\n",
    "# Implementasi fungsi untuk menghitung metrik model\n",
    "def compute_metrics(p):\n",
    "    preds = p.predictions[0] if isinstance(p.predictions, tuple) else p.predictions\n",
    "    preds = np.argmax(preds, axis=1)\n",
    "    return {\"accuracy\": accuracy_score(p.label_ids, preds)}\n",
    "\n",
    "# Inisialisasi Trainer\n",
    "trainer = Trainer(\n",
    "    model=model,\n",
    "    args=training_args,\n",
    "    train_dataset=train_dataset, # Use Dataset object\n",
    "    eval_dataset=valid_dataset,  # Use Dataset object\n",
    "    compute_metrics=compute_metrics, # Add compute_metrics function\n",
    ")\n",
    "\n",
    "# Fine-tune model\n",
    "trainer.train()\n",
    "\n",
    "# Evaluasi model pada data validasi\n",
    "eval_result = trainer.evaluate(valid_dataset)  # Evaluasi model pada data validasi\n",
    "print(eval_result)\n"
   ]
  },
  {
   "cell_type": "code",
   "execution_count": 61,
   "id": "f67a037d",
   "metadata": {},
   "outputs": [
    {
     "name": "stderr",
     "output_type": "stream",
     "text": [
      "d:\\analisis sentimen pemilu indobert\\env\\lib\\site-packages\\torch\\utils\\data\\dataloader.py:665: UserWarning: 'pin_memory' argument is set as true but no accelerator is found, then device pinned memory won't be used.\n",
      "  warnings.warn(warn_msg)\n"
     ]
    },
    {
     "name": "stdout",
     "output_type": "stream",
     "text": [
      "              precision    recall  f1-score   support\n",
      "\n",
      "     negatif       0.45      0.52      0.48        77\n",
      "      netral       0.86      0.45      0.59       255\n",
      "     positif       0.54      0.86      0.67       189\n",
      "\n",
      "    accuracy                           0.61       521\n",
      "   macro avg       0.62      0.61      0.58       521\n",
      "weighted avg       0.69      0.61      0.60       521\n",
      "\n"
     ]
    }
   ],
   "source": [
    "# Prediksi pada data test\n",
    "predictions = trainer.predict(test_dataset)\n",
    "predicted_labels = np.argmax(predictions.predictions, axis=-1)\n",
    "\n",
    "# Menampilkan precision, recall dan f1-score\n",
    "from sklearn.metrics import classification_report, confusion_matrix\n",
    "print(classification_report(test_data['Kategori_encoded'], predicted_labels, target_names=label_encoder.classes_))\n"
   ]
  },
  {
   "cell_type": "code",
   "execution_count": 62,
   "id": "f243f21e",
   "metadata": {},
   "outputs": [
    {
     "data": {
      "image/png": "[encoded data removed]",
      "text/plain": [
       "<Figure size 800x600 with 2 Axes>"
      ]
     },
     "metadata": {},
     "output_type": "display_data"
    }
   ],
   "source": [
    "# Visualisasi dengan Confusion Matrix\n",
    "import matplotlib.pyplot as plt\n",
    "import seaborn as sns\n",
    "\n",
    "# Menghitung confusion matrix\n",
    "cm = confusion_matrix(test_data['Kategori_encoded'], predicted_labels)\n",
    "\n",
    "# Plot confusion matrix\n",
    "plt.figure(figsize=(8, 6))\n",
    "sns.heatmap(cm, annot=True, fmt='d', cmap='Blues', xticklabels=label_encoder.classes_, yticklabels=label_encoder.classes_)\n",
    "plt.xlabel('Predicted')\n",
    "plt.ylabel('True')\n",
    "plt.title('Confusion Matrix')\n",
    "plt.show()"
   ]
  }
 ],
 "metadata": {
  "kernelspec": {
   "display_name": "env",
   "language": "python",
   "name": "python3"
  },
  "language_info": {
   "codemirror_mode": {
    "name": "ipython",
    "version": 3
   },
   "file_extension": ".py",
   "mimetype": "text/x-python",
   "name": "python",
   "nbconvert_exporter": "python",
   "pygments_lexer": "ipython3",
   "version": "3.10.11"
  }
 },
 "nbformat": 4,
 "nbformat_minor": 5
}
